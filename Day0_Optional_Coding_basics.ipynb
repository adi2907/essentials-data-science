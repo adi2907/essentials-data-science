{
 "cells": [
  {
   "cell_type": "markdown",
   "metadata": {},
   "source": [
    "# Fundamentals (10-25 min)"
   ]
  },
  {
   "cell_type": "markdown",
   "metadata": {},
   "source": [
    "Your First Program\n",
    "Let's write our very first instruction to the computer. We'll use the print command, which simply tells the computer to display something on the screen."
   ]
  },
  {
   "cell_type": "code",
   "execution_count": null,
   "metadata": {},
   "outputs": [],
   "source": [
    "print(\"Hello, World!\")"
   ]
  },
  {
   "cell_type": "markdown",
   "metadata": {},
   "source": [
    "Print is the computer's way of speaking. Whatever you put inside the parentheses () is what you want the computer to say. The quotation marks \"\" tell the computer that this is text (we call this a \"string\" in programming)."
   ]
  },
  {
   "cell_type": "markdown",
   "metadata": {},
   "source": [
    "## Comments - Notes for Humans\n",
    "Sometimes we want to write notes in our code that the computer should ignore. These are called comments. In Python, anything after a # symbol is ignored by the computer:"
   ]
  },
  {
   "cell_type": "code",
   "execution_count": null,
   "metadata": {},
   "outputs": [],
   "source": [
    "# This is a note to myself or other programmers\n",
    "# print(\"This line will not be shown)\n",
    "print(\"This line WILL be shown\")  # This note won't affect the output"
   ]
  },
  {
   "cell_type": "markdown",
   "metadata": {},
   "source": [
    "## Variables - Storing Information\n",
    "Now, let's talk about one of the most important concepts in programming: variables. Think of variables like labeled boxes where you can store information:"
   ]
  },
  {
   "cell_type": "code",
   "execution_count": null,
   "metadata": {},
   "outputs": [],
   "source": [
    "# Creating a box labeled 'name' and putting \"Vivek\" in it\n",
    "name = \"Vivek\"\n",
    "\n",
    "# Creating a box labeled 'age' and putting 25 in it\n",
    "age = 25"
   ]
  },
  {
   "cell_type": "markdown",
   "metadata": {},
   "source": [
    "## Types of information\n",
    "Just like in real life we have different types of things (books, numbers, yes/no answers), in Python we have different types of data"
   ]
  },
  {
   "cell_type": "code",
   "execution_count": null,
   "metadata": {},
   "outputs": [],
   "source": [
    "# Strings - Text or characters\n",
    "name = \"vivek\"\n",
    "favorite_color = \"blue\"\n",
    "address = '123 fabelle stree'\n",
    "\n",
    "print(name)\n",
    "print(address)"
   ]
  },
  {
   "cell_type": "code",
   "execution_count": null,
   "metadata": {},
   "outputs": [],
   "source": [
    "# Integers\n",
    "age = 25\n",
    "number_of_pets = 2\n",
    "\n",
    "# We can do math with integers\n",
    "total_age = age + 5\n",
    "print(total_age)  # Shows 30"
   ]
  },
  {
   "cell_type": "code",
   "execution_count": 3,
   "metadata": {},
   "outputs": [
    {
     "name": "stdout",
     "output_type": "stream",
     "text": [
      "0.875\n"
     ]
    }
   ],
   "source": [
    "# Floating points - Numbers with decimals\n",
    "height = 1.75  # height in meters\n",
    "temperature = 98.6  # body temperature\n",
    "\n",
    "# Floats can be used in calculations\n",
    "half_height = height / 2\n",
    "print(half_height)  # Shows 0.875"
   ]
  },
  {
   "cell_type": "code",
   "execution_count": null,
   "metadata": {},
   "outputs": [],
   "source": [
    "# Booleans (bool): Yes/No or True/False values\n",
    "is_student = True\n",
    "has_license = False\n",
    "\n",
    "print(is_student)  # Shows True"
   ]
  },
  {
   "cell_type": "markdown",
   "metadata": {},
   "source": [
    "## Using Variables\n",
    "The power of variables is that we can use them later in our program:"
   ]
  },
  {
   "cell_type": "code",
   "execution_count": null,
   "metadata": {},
   "outputs": [],
   "source": [
    "# Store information\n",
    "first_name = \"Ankita\"\n",
    "age = 25\n",
    "\n",
    "# Use the stored information\n",
    "print(\"Let me tell you about my friend...\")\n",
    "print(first_name)\n",
    "print(\"She is this many years old:\")\n",
    "print(age)"
   ]
  },
  {
   "cell_type": "markdown",
   "metadata": {},
   "source": [
    "## String Formatting - Making Sentences\n",
    "When we want to combine text and variables, we use something called f-strings (formatted strings). Think of it like filling in blanks in a sentence"
   ]
  },
  {
   "cell_type": "code",
   "execution_count": 5,
   "metadata": {},
   "outputs": [
    {
     "name": "stdout",
     "output_type": "stream",
     "text": [
      "My name is Vivek and I am 25 years old\n",
      "My name is Vivek and I am 25 years old\n",
      "Value of half height is 0.875\n"
     ]
    }
   ],
   "source": [
    "name = \"Vivek\"\n",
    "age = 25\n",
    "\n",
    "# Old way (harder to read):\n",
    "print(\"My name is \" + name + \" and I am \" + str(age) + \" years old\")\n",
    "\n",
    "# New way using f-strings (much easier!):\n",
    "print(f\"My name is {name} and I am {age} years old\")\n",
    "\n",
    "print(f\"Value of half height is {half_height}\")"
   ]
  },
  {
   "cell_type": "markdown",
   "metadata": {},
   "source": [
    "Practice Exercise 1: \n",
    "\n",
    "Try creating these variables and making your own story:\n",
    "\n",
    "Create a variable for your favorite food\n",
    "Create a variable for how many siblings you have\n",
    "Create a variable for your favorite number\n",
    "Use f-strings to write two sentences using these variables"
   ]
  },
  {
   "cell_type": "markdown",
   "metadata": {},
   "source": [
    "# Control Flow in python (25 to 45 min)\n",
    "\n",
    "Think of control flow like a flowchart in real life. When you wake up in the morning, you make decisions:\n",
    "\n",
    "IF it's raining, you take an umbrella\n",
    "IF you're running late, you skip breakfast\n",
    "WHILE you have dirty dishes, you keep washing them\n",
    "FOR each shirt in your closet, you decide if it matches your pants"
   ]
  },
  {
   "cell_type": "markdown",
   "metadata": {},
   "source": [
    "## Making Decisions with if Statements\n",
    "Basic Decision Making\n",
    "Let's start with a simple example:"
   ]
  },
  {
   "cell_type": "code",
   "execution_count": null,
   "metadata": {},
   "outputs": [],
   "source": [
    "# First, let's store the temperature\n",
    "temperature = 45\n",
    "\n",
    "# Now let's make a decision based on the temperature\n",
    "if temperature > 30:\n",
    "    print(\"It's hot outside!\")"
   ]
  },
  {
   "cell_type": "markdown",
   "metadata": {},
   "source": [
    "Let's break this down:\n",
    "\n",
    "if tells Python we're making a decision\n",
    "temperature > 30 is the condition (is temperature greater than 30?)\n",
    "The indented line only runs if the condition is True\n",
    "The colon : is important - it tells Python that indented lines are coming"
   ]
  },
  {
   "cell_type": "code",
   "execution_count": null,
   "metadata": {},
   "outputs": [],
   "source": [
    "# Multiple Decisions with elif and else\n",
    "if temperature > 30:\n",
    "    print(\"It's hot outside!\")\n",
    "elif temperature > 20:    # elif means \"else if\"\n",
    "    print(\"It's nice outside!\")\n",
    "else:\n",
    "    print(\"It's cold outside!\")"
   ]
  },
  {
   "cell_type": "code",
   "execution_count": null,
   "metadata": {},
   "outputs": [],
   "source": [
    "# there can be multiple such decisions\n",
    "\n",
    "score = 85\n",
    "\n",
    "if score >= 90:\n",
    "    print(\"A grade\")\n",
    "elif score >= 80:\n",
    "    print(\"B grade\")\n",
    "elif score >= 70:\n",
    "    print(\"C grade\")\n",
    "elif score >= 60:\n",
    "    print(\"D grade\")\n",
    "else:\n",
    "    print(\"F grade\")"
   ]
  },
  {
   "cell_type": "markdown",
   "metadata": {},
   "source": [
    "## Repeating Tasks with Loops\n",
    "Sometimes we need to do the same thing multiple times. Python has two main types of loops:\n",
    "\n",
    "for loops: When you know how many times you want to repeat\n",
    "while loops: When you want to repeat until a condition is met"
   ]
  },
  {
   "cell_type": "code",
   "execution_count": null,
   "metadata": {},
   "outputs": [],
   "source": [
    "# Print numbers from 0 to 4\n",
    "for number in range(5):\n",
    "    print(f\"The number is: {number}\")\n",
    "\n",
    "# Loop through a list of names\n",
    "names = [\"Ajay\", \"Vivek\", \"Sangeeta\"]\n",
    "for name in names:\n",
    "    print(f\"Hello, {name}!\")"
   ]
  },
  {
   "cell_type": "markdown",
   "metadata": {},
   "source": [
    "Real-world analogy: This is like:\n",
    "\n",
    "FOR each dish in the sink, wash it\n",
    "FOR each student in the class, check their homework"
   ]
  },
  {
   "cell_type": "code",
   "execution_count": null,
   "metadata": {},
   "outputs": [],
   "source": [
    "# while loop continues as long as a condition is True:\n",
    "\n",
    "countdown = 5\n",
    "\n",
    "while countdown > 0:\n",
    "    print(f\"{countdown}...\")\n",
    "    countdown = countdown - 1\n",
    "\n",
    "print(\"Blast off!\")"
   ]
  },
  {
   "cell_type": "markdown",
   "metadata": {},
   "source": [
    "### Example of loop usages"
   ]
  },
  {
   "cell_type": "code",
   "execution_count": null,
   "metadata": {},
   "outputs": [],
   "source": [
    "# Finding a pattern\n",
    "\n",
    "numbers = [4, 7, 2, 9, 1]\n",
    "target = 7\n",
    "\n",
    "for num in numbers:\n",
    "    if num == target:\n",
    "        print(\"Found it!\")\n",
    "        break  # Exit the loop early"
   ]
  },
  {
   "cell_type": "markdown",
   "metadata": {},
   "source": [
    "Practice Exercise 2: Putting It All Together\n",
    "Create a simple number guessing game - Too High, Too low, Correct!"
   ]
  },
  {
   "cell_type": "markdown",
   "metadata": {},
   "source": [
    "# Functions in Python\n",
    "Imagine you're baking cookies. Instead of writing down the recipe steps every time you want to bake cookies, you have a recipe card you can refer to. In programming, functions are like recipe cards - they're reusable sets of instructions that you can use whenever you need them.\n",
    "Real-world analogies for functions:\n",
    "\n",
    "A recipe card (input: ingredients, output: cookies)\n",
    "A coffee machine (input: water and coffee beans, output: coffee)\n",
    "A washing machine (input: dirty clothes and detergent, output: clean clothes)"
   ]
  },
  {
   "cell_type": "markdown",
   "metadata": {},
   "source": [
    "Creating Your First Function"
   ]
  },
  {
   "cell_type": "code",
   "execution_count": null,
   "metadata": {},
   "outputs": [],
   "source": [
    "# Define a simple function\n",
    "def say_hello():\n",
    "    print(\"Hello!\")\n",
    "\n",
    "# Use (call) the function\n",
    "say_hello()  # Prints: Hello!"
   ]
  },
  {
   "cell_type": "markdown",
   "metadata": {},
   "source": [
    "Let's break this down:\n",
    "def tells Python we're defining a function\n",
    "say_hello is the function name\n",
    "() holds any inputs (empty in this case)\n",
    ": tells Python the function instructions are coming"
   ]
  },
  {
   "cell_type": "markdown",
   "metadata": {},
   "source": [
    "## Functions with Inputs (Parameters)\n",
    "Most functions need information to work with. We call these inputs \"parameters\":"
   ]
  },
  {
   "cell_type": "code",
   "execution_count": null,
   "metadata": {},
   "outputs": [],
   "source": [
    "# Function with one parameter\n",
    "def greet_person(name):\n",
    "    print(f\"Hello, {name}!\")\n",
    "\n",
    "# Call the function with different inputs\n",
    "greet_person(\"Ajay\")    \n",
    "greet_person(\"Ankita\")      "
   ]
  },
  {
   "cell_type": "code",
   "execution_count": null,
   "metadata": {},
   "outputs": [],
   "source": [
    "# Function with multiple parameters\n",
    "def describe_pet(animal_type, name):\n",
    "    print(f\"I have a {animal_type} named {name}.\")\n",
    "\n",
    "# Call the function with two arguments\n",
    "describe_pet(\"dog\", \"Rover\")      # Prints: I have a dog named Rover.\n",
    "describe_pet(\"cat\", \"Whiskers\")   # Prints: I have a cat named Whiskers."
   ]
  },
  {
   "cell_type": "markdown",
   "metadata": {},
   "source": [
    "## Functions that Give Back Results (Return Values)"
   ]
  },
  {
   "cell_type": "code",
   "execution_count": null,
   "metadata": {},
   "outputs": [],
   "source": [
    "# Function that returns a value\n",
    "def calculate_area(length, width):\n",
    "    area = length * width\n",
    "    return area\n",
    "\n",
    "# Use the returned value\n",
    "room_area = calculate_area(10, 20)\n",
    "print(f\"The room area is {room_area} square meters\")"
   ]
  },
  {
   "cell_type": "markdown",
   "metadata": {},
   "source": [
    "Default Parameters\n",
    "Sometimes we want functions to have default values for parameters:"
   ]
  },
  {
   "cell_type": "code",
   "execution_count": null,
   "metadata": {},
   "outputs": [],
   "source": [
    "def greet(name, greeting=\"Hello\"):\n",
    "    print(f\"{greeting}, {name}!\")\n",
    "\n",
    "# Using the function\n",
    "greet(\"Alice\")               # Uses default greeting: Hello, Alice!\n",
    "greet(\"Bob\", \"Good morning\") # Override default: Good morning, Bob!"
   ]
  },
  {
   "cell_type": "markdown",
   "metadata": {},
   "source": [
    "Practice Exercise 3: Creating Basic Functions\n",
    "Try creating these functions:\n",
    "\n",
    "A function that takes a temperature in Celsius and returns it in Fahrenheit\n",
    "A function that takes a name and age and prints a greeting"
   ]
  },
  {
   "cell_type": "markdown",
   "metadata": {},
   "source": [
    "# Python Data Structures and File Operations (60-80 min)"
   ]
  },
  {
   "cell_type": "markdown",
   "metadata": {},
   "source": [
    "## Lists: Your First Data Structure\n",
    "Think of a list like a shopping list or a to-do list in real life. It's an ordered collection of items where:\n",
    "\n",
    "Items keep their order\n",
    "You can add or remove items\n",
    "You can find items by their position (index)"
   ]
  },
  {
   "cell_type": "code",
   "execution_count": null,
   "metadata": {},
   "outputs": [],
   "source": [
    "shopping_list = [\"milk\", \"eggs\", \"bread\"]\n",
    "print(shopping_list)"
   ]
  },
  {
   "cell_type": "code",
   "execution_count": null,
   "metadata": {},
   "outputs": [],
   "source": [
    "numbers = [1, 2, 3, 4, 5]\n",
    "mixed_list = [\"hello\", 42, True, 3.14]  # Lists can contain different types\n",
    "empty_list = []  # Create an empty list"
   ]
  },
  {
   "cell_type": "code",
   "execution_count": null,
   "metadata": {},
   "outputs": [],
   "source": [
    "# Accessing List Items (Indexing)\n",
    "\n",
    "fruits = [\"apple\", \"banana\", \"orange\", \"grape\"]\n",
    "\n",
    "# Positive indexing (from start)\n",
    "print(fruits[0])  # First item (apple)\n",
    "print(fruits[1])  # Second item (banana)"
   ]
  },
  {
   "cell_type": "code",
   "execution_count": null,
   "metadata": {},
   "outputs": [],
   "source": [
    "# Negative indexing (from end)\n",
    "print(fruits[-1])  # Last item (grape)\n",
    "print(fruits[-2])  # Second-to-last item (orange)"
   ]
  },
  {
   "cell_type": "markdown",
   "metadata": {},
   "source": [
    "### Modifying Lists"
   ]
  },
  {
   "cell_type": "code",
   "execution_count": null,
   "metadata": {},
   "outputs": [],
   "source": [
    "colors = [\"red\", \"blue\", \"green\"]\n",
    "\n",
    "# Adding items\n",
    "colors.append(\"yellow\")        # Add to end\n",
    "colors.insert(1, \"purple\")   "
   ]
  },
  {
   "cell_type": "code",
   "execution_count": null,
   "metadata": {},
   "outputs": [],
   "source": [
    "colors.remove(\"blue\")         # Remove specific item\n",
    "removed_color = colors.pop()  # Remove and return last item\n",
    "del colors[0]   "
   ]
  },
  {
   "cell_type": "code",
   "execution_count": null,
   "metadata": {},
   "outputs": [],
   "source": [
    "colors[0] = \"pink\"   "
   ]
  },
  {
   "cell_type": "markdown",
   "metadata": {},
   "source": [
    "###  List Operations and Methods"
   ]
  },
  {
   "cell_type": "code",
   "execution_count": null,
   "metadata": {},
   "outputs": [],
   "source": [
    "numbers = [1, 2, 3, 4, 5]\n",
    "\n",
    "# Basic operations\n",
    "print(len(numbers))          # Number of items\n",
    "print(sum(numbers))          # Sum of numbers\n",
    "print(max(numbers))          # Largest number\n",
    "print(min(numbers))          # Smallest number\n",
    "\n",
    "# Useful methods\n",
    "numbers.sort()               # Sort the list\n",
    "numbers.reverse()            # Reverse the list\n",
    "numbers.clear()              # Remove all items\n",
    "\n",
    "# Check if item exists\n",
    "if 3 in numbers:\n",
    "    print(\"Found 3!\")"
   ]
  },
  {
   "cell_type": "markdown",
   "metadata": {},
   "source": [
    "### Iterating through lists"
   ]
  },
  {
   "cell_type": "code",
   "execution_count": null,
   "metadata": {},
   "outputs": [],
   "source": [
    "fruits = [\"apple\", \"banana\", \"orange\"]\n",
    "\n",
    "# Method 1: Simple for loop\n",
    "for fruit in fruits:\n",
    "    print(f\"I like {fruit}\")\n",
    "\n",
    "# Method 2: Using index numbers\n",
    "for i in range(len(fruits)):\n",
    "    print(f\"Fruit {i+1} is {fruits[i]}\")\n",
    "\n",
    "# Method 3: Getting both index and value\n",
    "for index, fruit in enumerate(fruits):\n",
    "    print(f\"Position {index}: {fruit}\")"
   ]
  },
  {
   "cell_type": "markdown",
   "metadata": {},
   "source": [
    "## Dictionaries: Key-Value Pairs\n",
    "Think of a dictionary like a real dictionary where:\n",
    "\n",
    "Each word (key) has a definition (value)\n",
    "You look up values using their keys\n",
    "Keys must be unique\n",
    "Values can be any type of data"
   ]
  },
  {
   "cell_type": "code",
   "execution_count": null,
   "metadata": {},
   "outputs": [],
   "source": [
    "# Creating Dictionaries\n",
    "student = {\n",
    "    \"name\": \"Alice\",\n",
    "    \"age\": 20,\n",
    "    \"grade\": \"A\"\n",
    "}\n",
    "\n",
    "# Different types of values\n",
    "person = {\n",
    "    \"name\": \"Bob\",\n",
    "    \"age\": 30,\n",
    "    \"is_student\": True,\n",
    "    \"hobbies\": [\"reading\", \"gaming\"],\n",
    "    \"address\": {\n",
    "        \"street\": \"123 Python St\",\n",
    "        \"city\": \"Codeville\"\n",
    "    }\n",
    "}"
   ]
  },
  {
   "cell_type": "markdown",
   "metadata": {},
   "source": [
    "### Accessing dictionary values"
   ]
  },
  {
   "cell_type": "code",
   "execution_count": null,
   "metadata": {},
   "outputs": [],
   "source": [
    "student = {\"name\": \"Alice\", \"age\": 20, \"grade\": \"A\"}\n",
    "\n",
    "# Using square brackets\n",
    "print(student[\"name\"])    # Prints: Alice"
   ]
  },
  {
   "cell_type": "code",
   "execution_count": null,
   "metadata": {},
   "outputs": [],
   "source": [
    "# Using get() method (safer)\n",
    "print(student.get(\"age\"))  # Prints: 20\n",
    "print(student.get(\"phone\", \"Not found\"))  # Default if key doesn't exist"
   ]
  },
  {
   "cell_type": "code",
   "execution_count": null,
   "metadata": {},
   "outputs": [],
   "source": [
    "# Checking if key exists\n",
    "if \"grade\" in student:\n",
    "    print(\"Found grade!\")"
   ]
  },
  {
   "cell_type": "markdown",
   "metadata": {},
   "source": [
    "### Modifying Dictionaries"
   ]
  },
  {
   "cell_type": "code",
   "execution_count": null,
   "metadata": {},
   "outputs": [],
   "source": [
    "student = {\"name\": \"Alice\", \"age\": 20}\n",
    "\n",
    "# Adding new key-value pairs\n",
    "student[\"grade\"] = \"A\"\n",
    "student[\"city\"] = \"New York\"\n"
   ]
  },
  {
   "cell_type": "code",
   "execution_count": null,
   "metadata": {},
   "outputs": [],
   "source": [
    "# Updating existing values\n",
    "student[\"age\"] = 21"
   ]
  },
  {
   "cell_type": "code",
   "execution_count": null,
   "metadata": {},
   "outputs": [],
   "source": [
    "# Removing key-value pairs\n",
    "del student[\"city\"]\n",
    "removed_age = student.pop(\"age\")"
   ]
  },
  {
   "cell_type": "markdown",
   "metadata": {},
   "source": [
    "# File Input/Output\n",
    "Files let us save data permanently and read it later. Think of it like saving a document in Word."
   ]
  },
  {
   "cell_type": "markdown",
   "metadata": {},
   "source": [
    "### Reading files"
   ]
  },
  {
   "cell_type": "code",
   "execution_count": null,
   "metadata": {},
   "outputs": [],
   "source": [
    "# Method 1: Read entire file\n",
    "with open(\"example.txt\", \"r\") as file:\n",
    "    content = file.read()\n",
    "    print(content)\n",
    "\n",
    "# Method 2: Read line by line\n",
    "with open(\"example.txt\", \"r\") as file:\n",
    "    for line in file:\n",
    "        print(line.strip())  # strip() removes extra whitespace\n",
    "\n",
    "# Method 3: Read all lines into a list\n",
    "with open(\"example.txt\", \"r\") as file:\n",
    "    lines = file.readlines()\n",
    "    print(lines)"
   ]
  },
  {
   "cell_type": "markdown",
   "metadata": {},
   "source": [
    "### Writing Files"
   ]
  },
  {
   "cell_type": "code",
   "execution_count": null,
   "metadata": {},
   "outputs": [],
   "source": [
    "# Write multiple lines\n",
    "lines = [\"Line 1\", \"Line 2\", \"Line 3\"]\n",
    "with open(\"output.txt\", \"w\") as file:\n",
    "    for line in lines:\n",
    "        file.write(line + \"\\n\")"
   ]
  },
  {
   "cell_type": "markdown",
   "metadata": {},
   "source": [
    "### Appending to Files"
   ]
  },
  {
   "cell_type": "code",
   "execution_count": null,
   "metadata": {},
   "outputs": [],
   "source": [
    "# Add to existing file\n",
    "with open(\"log.txt\", \"a\") as file:\n",
    "    file.write(\"New log entry\\n\")"
   ]
  }
 ],
 "metadata": {
  "kernelspec": {
   "display_name": "tech-env",
   "language": "python",
   "name": "python3"
  },
  "language_info": {
   "codemirror_mode": {
    "name": "ipython",
    "version": 3
   },
   "file_extension": ".py",
   "mimetype": "text/x-python",
   "name": "python",
   "nbconvert_exporter": "python",
   "pygments_lexer": "ipython3",
   "version": "3.8.16"
  }
 },
 "nbformat": 4,
 "nbformat_minor": 2
}
