{
 "cells": [
  {
   "cell_type": "markdown",
   "metadata": {},
   "source": [
    "# FastAPI and Streamlit Tutorial "
   ]
  },
  {
   "cell_type": "markdown",
   "metadata": {},
   "source": [
    "## Introduction to APIs\n",
    "An API (Application Programming Interface) is like a waiter in a restaurant. Just as a waiter takes your order, goes to the kitchen (backend), and brings back your food, an API takes requests from users, processes them in the backend, and returns responses. APIs allow different software applications to communicate with each other in a structured way."
   ]
  },
  {
   "cell_type": "markdown",
   "metadata": {},
   "source": [
    "## What is FastAPI?\n",
    "FastAPI is a modern Python web framework for building APIs. It's known for being:\n",
    "\n",
    "- Fast to run (high performance)\n",
    "- Fast to code (easy to use)\n",
    "- Fewer bugs (automatic validation)\n",
    "- Automatic documentation"
   ]
  },
  {
   "cell_type": "code",
   "execution_count": null,
   "metadata": {},
   "outputs": [],
   "source": [
    "!pip install fastapi uvicorn streamlit pandas python-multipart"
   ]
  },
  {
   "cell_type": "markdown",
   "metadata": {},
   "source": [
    "### Creating the Fast Backend"
   ]
  },
  {
   "cell_type": "code",
   "execution_count": 4,
   "metadata": {},
   "outputs": [],
   "source": [
    "from fastapi import FastAPI, HTTPException\n",
    "from pydantic import BaseModel\n",
    "from typing import List, Optional\n",
    "import uvicorn\n",
    "import json\n",
    "from datetime import datetime"
   ]
  },
  {
   "cell_type": "code",
   "execution_count": null,
   "metadata": {},
   "outputs": [],
   "source": [
    "# Define the data model\n",
    "class Student(BaseModel):\n",
    "    id: int\n",
    "    name: str\n",
    "    age: int\n",
    "    grade: float\n",
    "    enrollment_date: str\n",
    "\n",
    "# Initialize with some test data\n",
    "students = [\n",
    "    Student(\n",
    "        id=1,\n",
    "        name=\"John Doe\",\n",
    "        age=20,\n",
    "        grade=85.5,\n",
    "        enrollment_date=\"2024-01-15\"\n",
    "    ),\n",
    "    Student(\n",
    "        id=2,\n",
    "        name=\"Jane Smith\",\n",
    "        age=19,\n",
    "        grade=92.0,\n",
    "        enrollment_date=\"2024-01-16\"\n",
    "    )\n",
    "]\n",
    "# Initialize FastAPI app\n",
    "app = FastAPI(title=\"Student Management System\")\n"
   ]
  },
  {
   "cell_type": "markdown",
   "metadata": {},
   "source": [
    "### REST API \n",
    "\n",
    "REST (Representational State Transfer) is a design style for building APIs that interact with resources like users or products. It uses stateless communication, meaning each request is independent, and the server doesn’t remember previous interactions; the client must include all necessary information in every request. REST also uses resource-based URLs, where each URL represents a specific resource (e.g., /users/123 for a user with ID 123) and actions are defined using standard HTTP methods like GET or POST."
   ]
  },
  {
   "cell_type": "markdown",
   "metadata": {},
   "source": [
    "### API endpoints \n",
    "\n",
    "API endpoints are specific URLs in a REST API that represent resources or actions, allowing clients to access or manipulate data. For example, GET /users retrieves user data, while POST /users creates a new user."
   ]
  },
  {
   "cell_type": "code",
   "execution_count": null,
   "metadata": {},
   "outputs": [],
   "source": [
    "from fastapi import FastAPI, HTTPException\n",
    "from pydantic import BaseModel\n",
    "from typing import List, Optional\n",
    "import uvicorn\n",
    "import json\n",
    "from datetime import datetime\n",
    "\n",
    "\n",
    "\n",
    "# API Endpoints\n",
    "\n",
    "@app.get(\"/\")\n",
    "def read_root():\n",
    "    return {\"message\": \"Welcome to Student Management System API\"}\n",
    "\n",
    "@app.get(\"/students/\", response_model=List[Student])\n",
    "def get_all_students():\n",
    "    return students\n",
    "\n",
    "@app.get(\"/students/{student_id}\")\n",
    "def get_student(student_id: int):\n",
    "    student = next((s for s in students if s.id == student_id), None)\n",
    "    if student is None:\n",
    "        raise HTTPException(status_code=404, detail=\"Student not found\")\n",
    "    return student\n",
    "\n",
    "@app.post(\"/students/\", response_model=Student)\n",
    "def add_student(student: Student):\n",
    "    # Check if student ID already exists\n",
    "    if any(s.id == student.id for s in students):\n",
    "        raise HTTPException(status_code=400, detail=\"Student ID already exists\")\n",
    "    students.append(student)\n",
    "    return student\n",
    "\n",
    "@app.get(\"/statistics/\")\n",
    "def get_statistics():\n",
    "    if not students:\n",
    "        return {\n",
    "            \"average_grade\": 0,\n",
    "            \"total_students\": 0,\n",
    "            \"average_age\": 0\n",
    "        }\n",
    "    \n",
    "    return {\n",
    "        \"average_grade\": sum(s.grade for s in students) / len(students),\n",
    "        \"total_students\": len(students),\n",
    "        \"average_age\": sum(s.age for s in students) / len(students)\n",
    "    }\n",
    "\n"
   ]
  },
  {
   "cell_type": "markdown",
   "metadata": {},
   "source": [
    "### How to run FAST API\n",
    "\n",
    "To run this, put it in a single file called main.py and call\n",
    "\n",
    "uvicorn main:app --reload"
   ]
  },
  {
   "cell_type": "markdown",
   "metadata": {},
   "source": [
    "## Streamlit\n",
    "What is Streamlit?\n",
    "Streamlit is a Python library that makes it easy to create web applications for data science and machine learning.\n",
    "\n",
    "It turns data scripts into shareable web apps in minutes, requiring minimal frontend experience.\n",
    "\n",
    "### Project Overview\n",
    "We'll build a simple Student Management System where we can:\n",
    "\n",
    "- Add student information\n",
    "- View all students\n",
    "- Search for students by ID\n",
    "- Calculate class statistics"
   ]
  },
  {
   "cell_type": "markdown",
   "metadata": {},
   "source": [
    "#### Creating the Streamlit Frontend\n",
    "Create a new file called frontend.py with the following details"
   ]
  },
  {
   "cell_type": "code",
   "execution_count": null,
   "metadata": {},
   "outputs": [],
   "source": [
    "import streamlit as st\n",
    "import requests\n",
    "import json\n",
    "from datetime import datetime\n",
    "import pandas as pd\n",
    "\n",
    "# Set the API URL\n",
    "API_URL = \"http://localhost:8000\"\n",
    "\n",
    "st.title(\"Student Management System\")\n",
    "\n",
    "# Sidebar for navigation\n",
    "page = st.sidebar.selectbox(\"Choose a page\", [\"View Students\", \"Add Student\", \"Search Student\", \"Statistics\"])\n",
    "\n",
    "if page == \"View Students\":\n",
    "    st.header(\"All Students\")\n",
    "    \n",
    "    # Fetch all students\n",
    "    response = requests.get(f\"{API_URL}/students/\")\n",
    "    if response.status_code == 200:\n",
    "        students = response.json()\n",
    "        if students:\n",
    "            df = pd.DataFrame(students)\n",
    "            st.dataframe(df)\n",
    "        else:\n",
    "            st.info(\"No students found in the system.\")\n",
    "    else:\n",
    "        st.error(\"Failed to fetch students data.\")\n",
    "\n",
    "elif page == \"Add Student\":\n",
    "    st.header(\"Add New Student\")\n",
    "    \n",
    "    # Create input form\n",
    "    with st.form(\"add_student_form\"):\n",
    "        student_id = st.number_input(\"Student ID\", min_value=1, step=1)\n",
    "        name = st.text_input(\"Name\")\n",
    "        age = st.number_input(\"Age\", min_value=15, max_value=100, step=1)\n",
    "        grade = st.number_input(\"Grade\", min_value=0.0, max_value=100.0, step=0.1)\n",
    "        enrollment_date = st.date_input(\"Enrollment Date\")\n",
    "        \n",
    "        submit_button = st.form_submit_button(\"Add Student\")\n",
    "        \n",
    "        if submit_button:\n",
    "            student_data = {\n",
    "                \"id\": student_id,\n",
    "                \"name\": name,\n",
    "                \"age\": age,\n",
    "                \"grade\": grade,\n",
    "                \"enrollment_date\": enrollment_date.strftime(\"%Y-%m-%d\")\n",
    "            }\n",
    "            \n",
    "            response = requests.post(\n",
    "                f\"{API_URL}/students/\",\n",
    "                json=student_data\n",
    "            )\n",
    "            \n",
    "            if response.status_code == 200:\n",
    "                st.success(\"Student added successfully!\")\n",
    "            else:\n",
    "                st.error(f\"Error: {response.json()['detail']}\")\n",
    "\n",
    "elif page == \"Search Student\":\n",
    "    st.header(\"Search Student\")\n",
    "    \n",
    "    student_id = st.number_input(\"Enter Student ID\", min_value=1, step=1)\n",
    "    if st.button(\"Search\"):\n",
    "        response = requests.get(f\"{API_URL}/students/{student_id}\")\n",
    "        if response.status_code == 200:\n",
    "            student = response.json()\n",
    "            st.write(\"Student Information:\")\n",
    "            st.json(student)\n",
    "        else:\n",
    "            st.error(\"Student not found.\")\n",
    "\n",
    "elif page == \"Statistics\":\n",
    "    st.header(\"Class Statistics\")\n",
    "    \n",
    "    response = requests.get(f\"{API_URL}/statistics/\")\n",
    "    if response.status_code == 200:\n",
    "        stats = response.json()\n",
    "        col1, col2, col3 = st.columns(3)\n",
    "        \n",
    "        with col1:\n",
    "            st.metric(\"Total Students\", f\"{stats['total_students']}\")\n",
    "        with col2:\n",
    "            st.metric(\"Average Grade\", f\"{stats['average_grade']:.2f}\")\n",
    "        with col3:\n",
    "            st.metric(\"Average Age\", f\"{stats['average_age']:.1f}\")"
   ]
  },
  {
   "cell_type": "markdown",
   "metadata": {},
   "source": [
    "### How to run the streamlit app\n",
    "\n",
    "In a new terminal, start the streamlit frontend\n",
    "\n",
    "streamlit run frontend.py"
   ]
  }
 ],
 "metadata": {
  "kernelspec": {
   "display_name": "tech-env",
   "language": "python",
   "name": "python3"
  },
  "language_info": {
   "codemirror_mode": {
    "name": "ipython",
    "version": 3
   },
   "file_extension": ".py",
   "mimetype": "text/x-python",
   "name": "python",
   "nbconvert_exporter": "python",
   "pygments_lexer": "ipython3",
   "version": "3.8.16"
  }
 },
 "nbformat": 4,
 "nbformat_minor": 2
}
