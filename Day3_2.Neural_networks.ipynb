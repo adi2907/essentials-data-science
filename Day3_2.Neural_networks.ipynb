{
 "cells": [
  {
   "cell_type": "markdown",
   "metadata": {},
   "source": [
    "# Deep Learning\n",
    "What Makes Deep Learning Different?\n",
    "\n",
    "Imagine you’re trying to teach someone to recognize apples and oranges. Traditional machine learning works by giving that person specific rules: \"If it’s round and red, it’s an apple.\" Deep learning, on the other hand, teaches them by showing many examples and letting them figure out the patterns themselves.\n",
    "\n",
    "Machine Learning: Requires manual rules for pattern recognition.\n",
    "\n",
    "Deep Learning: Learns rules automatically from data.\n",
    "\n",
    "Analogy: Imagine teaching someone to drive. Instead of explaining every rule, you sit beside them as they practice until they can handle situations themselves.\n",
    "\n",
    "![Deep Learning](https://cdn.prod.website-files.com/5fb24a974499e90dae242d98/60f6fcbbeb0b8f57a7980a98_5f213db7c7763a9288759ad1_5eac2d0ef117c236e34cc0ff_DeepLearning.jpeg)\n"
   ]
  },
  {
   "cell_type": "markdown",
   "metadata": {},
   "source": [
    "## Neural network \n",
    "\n",
    "A neural network is like a decision-making machine made of tiny units called neurons. Each neuron takes some input, does a simple calculation, and passes the result to the next neuron.\n",
    "\n",
    "Think of it like a relay race:\n",
    "\n",
    "The input layer is the starting point (it receives the data).\n",
    "\n",
    "The hidden layers are where the baton is passed between runners (neurons) that process the data.\n",
    "\n",
    "The output layer is the finish line (it gives the prediction)."
   ]
  },
  {
   "cell_type": "markdown",
   "metadata": {},
   "source": [
    "## Neuron\n",
    "Think of a neuron as a smart information processor:\n",
    "\n",
    "### Inputs: Takes in multiple signals (like temperature, wind speed)\n",
    "\n",
    "Processing: Weighs each input differently (like giving more importance to temperature)\n",
    "\n",
    "Activation: Decides whether to \"fire\" based on the total weighted input\n",
    "\n",
    "Output: Produces a signal that can be used by other neurons"
   ]
  },
  {
   "cell_type": "markdown",
   "metadata": {},
   "source": [
    "### Scenario: Predicting energy production based on weather.\n",
    "\n",
    "#### Step 1: Input Layer\n",
    "\n",
    "The input layer receives data like the time of day, temperature, cloud cover, and wind speed.\n",
    "\n",
    "#### Step 2: First Hidden Layer\n",
    "\n",
    "Each neuron in this layer takes the data, applies weights, adds a bias, and then decides using an activation function.\n",
    "\n",
    "Example: A neuron might get an input of 15 (temperature). After the math, it passes 5 to the next layer.\n",
    "\n",
    "#### Step 3: Second Hidden Layer\n",
    "\n",
    "Neurons in this layer combine the results from the previous layer.\n",
    "\n",
    "Example: One neuron might combine inputs from \"time of day\" and \"wind speed\" to predict how energy production changes in the evening.\n",
    "\n",
    "#### Step 4: Output Layer\n",
    "\n",
    "This layer gives the final prediction. In our case, it might predict that energy production will be 50 units at 3 PM."
   ]
  },
  {
   "cell_type": "markdown",
   "metadata": {},
   "source": [
    "## How Neural Networks Learn \n",
    "\n",
    "Imagine training for a relay race:\n",
    "\n",
    "#### Forward Pass (Practice Run):\n",
    "\n",
    "The team runs the race and finishes.\n",
    "\n",
    "The coach checks how close they came to the goal.\n",
    "\n",
    "Loss Function (Measuring Mistakes):\n",
    "\n",
    "This is like the coach saying, \"You were 10 seconds slower than the goal.\"\n",
    "\n",
    "#### Backward Pass (Adjusting Strategy):\n",
    "\n",
    "The coach gives feedback to the runners.\n",
    "\n",
    "Example: \"Runner 2, you need to speed up! Runner 3, slow down a bit.\"\n",
    "\n",
    "In neural networks, this is called backpropagation. The network adjusts weights (importance) and bias (starting point) until the predictions improve."
   ]
  },
  {
   "cell_type": "markdown",
   "metadata": {},
   "source": [
    "## Why Deep Learning Works Better for our Data:\n",
    "\n",
    "The energy production has complex patterns:\n",
    "\n",
    "Daily cycles (time_of_day)\n",
    "Temperature thresholds\n",
    "Cloud cover plateaus\n",
    "Wind speed optimal ranges\n",
    "Interactions between variables\n",
    "\n",
    "A deep neural network can:\n",
    "\n",
    "First layer: Learn basic patterns (day/night cycles)\n",
    "Middle layers: Understand interactions (temperature × wind speed)\n",
    "Deep layers: Capture complex relationships (optimal conditions)"
   ]
  },
  {
   "cell_type": "markdown",
   "metadata": {},
   "source": [
    "## Neural networks as it works"
   ]
  },
  {
   "cell_type": "markdown",
   "metadata": {},
   "source": [
    "## Understanding neural networks - one layer at a time"
   ]
  },
  {
   "cell_type": "code",
   "execution_count": 1,
   "metadata": {},
   "outputs": [],
   "source": [
    "import torch\n",
    "\n",
    "# Example input: 1 sample with 4 features (time, temperature, cloud cover, wind speed)\n",
    "inputs = torch.tensor([[12.0, 20.0, 40.0, 10.0]], dtype=torch.float32)"
   ]
  },
  {
   "cell_type": "markdown",
   "metadata": {},
   "source": [
    "### Fully connected layer\n",
    "We construct a fully connected layer first. A fully connected (FC) layer means that every neuron in the layer is connected to every neuron in the previous layer. The first layer is connected to every neuron in input layer\n",
    "\n",
    "\n",
    "4: The input size—the number of features in the input data\n",
    "16: The output size\n"
   ]
  },
  {
   "cell_type": "markdown",
   "metadata": {},
   "source": [
    "#### Example of Fully Connected (FC) Layer\n",
    "\n",
    "Suppose you have an FC layer `nn.Linear(3, 2)`:\n",
    "\n",
    "- **Input:** 3 features ($x_{1}$, $x_{2}$, $x_{3}$).\n",
    "- **Output:** 2 neurons ($y_{1}$, $y_{2}$).\n",
    "\n",
    "The output is computed as:\n",
    "\n",
    "$y_{1} = w_{11}x_{1} + w_{12}x_{2} + w_{13}x_{3} + b_{1}$\n",
    "\n",
    "$y_{2} = w_{21}x_{1} + w_{22}x_{2} + w_{23}x_{3} + b_{2}$\n"
   ]
  },
  {
   "cell_type": "code",
   "execution_count": 6,
   "metadata": {},
   "outputs": [
    {
     "name": "stdout",
     "output_type": "stream",
     "text": [
      "Output after the first linear layer: torch.Size([1, 16])\n"
     ]
    }
   ],
   "source": [
    "import torch.nn as nn\n",
    "\n",
    "# Define a layer with 4 inputs (features) and 16 neurons (units)\n",
    "fc1 = nn.Linear(4, 16)\n",
    "layer1_output = fc1(inputs)\n",
    "#This layer transforms the data into 16 new values (one for each neuron).\n",
    "print(\"Output after the first linear layer:\", layer1_output.shape)"
   ]
  },
  {
   "cell_type": "code",
   "execution_count": null,
   "metadata": {},
   "outputs": [],
   "source": [
    "activation = nn.ReLU()\n",
    "activated_output = activation(layer1_output)\n",
    "# The activation ensures that neurons only pass meaningful signals.\n",
    "print(\"Output after applying ReLU:\", activated_output)"
   ]
  },
  {
   "cell_type": "markdown",
   "metadata": {},
   "source": [
    "### Neuron\n",
    "This is a good time to introduce the concept of Neuron. Each neuron in neural network is analagous to an actual neuron in our brain. \n",
    "\n",
    "The neuron takes input from multiple neurons and produces an activation which is passed on to other neurons in the brain till they take a decision. \n",
    "\n",
    "![Neuron Network Diagram](https://media.licdn.com/dms/image/v2/D5612AQHJncf_MoG1ig/article-inline_image-shrink_1500_2232/article-inline_image-shrink_1500_2232/0/1659619399965?e=1742428800&v=beta&t=mUIs-Xa65knFb2p2brkKGIAWuNOLOFABurUt-dtSKz8)\n"
   ]
  },
  {
   "cell_type": "code",
   "execution_count": null,
   "metadata": {},
   "outputs": [],
   "source": [
    "# Second hidden layer with 16 inputs and 8 neurons\n",
    "fc2 = nn.Linear(16, 8)\n",
    "layer2_output = fc2(activated_output)\n",
    "activated_output2 = activation(layer2_output)\n",
    "print(\"Output after the second hidden layer:\", activated_output2)"
   ]
  },
  {
   "cell_type": "code",
   "execution_count": 9,
   "metadata": {},
   "outputs": [
    {
     "name": "stdout",
     "output_type": "stream",
     "text": [
      "Final prediction: tensor([[-0.0438]], grad_fn=<AddmmBackward0>)\n"
     ]
    }
   ],
   "source": [
    "# Output layer: 8 inputs and 1 output (final prediction)\n",
    "fc3 = nn.Linear(8, 1)\n",
    "final_output = fc3(activated_output2)\n",
    "print(\"Final prediction:\", final_output)"
   ]
  },
  {
   "cell_type": "code",
   "execution_count": 29,
   "metadata": {},
   "outputs": [],
   "source": [
    "# Putting it all together\n",
    "class SimpleEnergyModel(nn.Module):\n",
    "    def __init__(self):\n",
    "        super(SimpleEnergyModel, self).__init__()\n",
    "        self.fc1 = nn.Linear(4, 16)  # First hidden layer\n",
    "        self.fc2 = nn.Linear(16, 8)  # Second hidden layer\n",
    "        self.fc3 = nn.Linear(8, 1)  # Output layer\n",
    "        self.relu = nn.ReLU()  # Activation function\n",
    "\n",
    "    def forward(self, x):\n",
    "        x = self.relu(self.fc1(x))\n",
    "        x = self.relu(self.fc2(x))\n",
    "        x = self.fc3(x)\n",
    "        return x\n",
    "\n",
    "# Initialize the model\n",
    "model = SimpleEnergyModel()"
   ]
  },
  {
   "cell_type": "markdown",
   "metadata": {},
   "source": [
    "How Training Works\n",
    "\n",
    "To make the network learn:\n",
    "\n",
    "Forward Pass: Pass the input data through the layers.\n",
    "\n",
    "Loss Calculation: Measure how far the prediction is from the true value.\n",
    "\n",
    "Backward Pass: Adjust the weights and biases using feedback (gradients)."
   ]
  },
  {
   "cell_type": "markdown",
   "metadata": {},
   "source": [
    "First lets load and prepare the data"
   ]
  },
  {
   "cell_type": "code",
   "execution_count": 26,
   "metadata": {},
   "outputs": [],
   "source": [
    "import pandas as pd\n",
    "data = pd.read_csv('energy_production_dataset.csv')\n",
    "X = torch.tensor(data[['time_of_day', 'temperature', 'cloud_cover', 'wind_speed']].values, dtype=torch.float32)\n",
    "y = torch.tensor(data['energy_production'].values,dtype=torch.float32).reshape(-1, 1)\n"
   ]
  },
  {
   "cell_type": "code",
   "execution_count": 42,
   "metadata": {},
   "outputs": [],
   "source": [
    "from sklearn.preprocessing import StandardScaler\n",
    "# Scale both features AND targets\n",
    "scaler_X = StandardScaler()\n",
    "scaler_y = StandardScaler()\n",
    "\n",
    "feature_columns = ['time_of_day', 'temperature', 'cloud_cover', 'wind_speed']\n",
    "X_scaled = scaler_X.fit_transform(data[feature_columns])\n",
    "y_scaled = scaler_y.fit_transform(data[['energy_production']])\n",
    "\n",
    "X = torch.tensor(X_scaled, dtype=torch.float32)\n",
    "y = torch.tensor(y_scaled, dtype=torch.float32)\n"
   ]
  },
  {
   "cell_type": "code",
   "execution_count": 43,
   "metadata": {},
   "outputs": [],
   "source": [
    "# Step 4: Initialize the model\n",
    "model = SimpleEnergyModel()\n",
    "\n",
    "# Step 5: Define loss function and optimizer\n",
    "loss_fn = nn.MSELoss()\n",
    "optimizer = torch.optim.SGD(model.parameters(), lr=0.01)  # Using the same optimizer as in your notebook\n"
   ]
  },
  {
   "cell_type": "code",
   "execution_count": 44,
   "metadata": {},
   "outputs": [
    {
     "name": "stdout",
     "output_type": "stream",
     "text": [
      "Epoch [10/100], Loss: 0.9618\n",
      "Epoch [20/100], Loss: 0.9047\n",
      "Epoch [30/100], Loss: 0.8594\n",
      "Epoch [40/100], Loss: 0.8203\n",
      "Epoch [50/100], Loss: 0.7844\n",
      "Epoch [60/100], Loss: 0.7499\n",
      "Epoch [70/100], Loss: 0.7161\n",
      "Epoch [80/100], Loss: 0.6828\n",
      "Epoch [90/100], Loss: 0.6505\n",
      "Epoch [100/100], Loss: 0.6195\n"
     ]
    }
   ],
   "source": [
    "# Step 6: Training loop\n",
    "num_epochs = 100\n",
    "losses = []\n",
    "\n",
    "for epoch in range(num_epochs):\n",
    "    # Forward pass\n",
    "    predictions = model(X)\n",
    "    \n",
    "    # Calculate loss\n",
    "    loss = loss_fn(predictions, y)\n",
    "    \n",
    "    # Backward pass and optimization\n",
    "    optimizer.zero_grad()  # Clear previous gradients\n",
    "    loss.backward()       # Compute gradients\n",
    "    optimizer.step()      # Update weights\n",
    "    \n",
    "    # Store loss\n",
    "    losses.append(loss.item())\n",
    "    \n",
    "    # Print progress every 10 epochs\n",
    "    if (epoch + 1) % 10 == 0:\n",
    "        print(f'Epoch [{epoch+1}/{num_epochs}], Loss: {loss.item():.4f}')\n"
   ]
  },
  {
   "cell_type": "markdown",
   "metadata": {},
   "source": [
    "Now lets look at the training progress"
   ]
  },
  {
   "cell_type": "code",
   "execution_count": 45,
   "metadata": {},
   "outputs": [
    {
     "data": {
      "image/png": "[encoded data removed]",
      "text/plain": [
       "<Figure size 1000x600 with 1 Axes>"
      ]
     },
     "metadata": {},
     "output_type": "display_data"
    }
   ],
   "source": [
    "import matplotlib.pyplot as plt\n",
    "plt.figure(figsize=(10, 6))\n",
    "plt.plot(losses)\n",
    "plt.title('Training Progress')\n",
    "plt.xlabel('Epoch')\n",
    "plt.ylabel('Loss')\n",
    "plt.grid(True)\n",
    "plt.show()"
   ]
  },
  {
   "cell_type": "code",
   "execution_count": 48,
   "metadata": {},
   "outputs": [
    {
     "name": "stdout",
     "output_type": "stream",
     "text": [
      "\n",
      "Test prediction for input [12.0, 20.0, 40.0, 10.0]: 18.99\n"
     ]
    },
    {
     "name": "stderr",
     "output_type": "stream",
     "text": [
      "/Users/adityaganguli/.pyenv/versions/3.8.16/envs/tech-env/lib/python3.8/site-packages/sklearn/base.py:465: UserWarning: X does not have valid feature names, but StandardScaler was fitted with feature names\n",
      "  warnings.warn(\n"
     ]
    }
   ],
   "source": [
    "model.eval()  # Set model to evaluation mode\n",
    "with torch.no_grad():\n",
    "    test_input_raw = [[12.0, 20.0, 40.0, 10.0]]\n",
    "    test_input_scaled = scaler_X.transform(test_input_raw)\n",
    "    test_input = torch.tensor(test_input_scaled, dtype=torch.float32)\n",
    "    \n",
    "    # Make prediction and inverse transform to original scale\n",
    "    prediction_scaled = model(test_input)\n",
    "    prediction_original = scaler_y.inverse_transform(prediction_scaled.numpy())\n",
    "    \n",
    "    print(f\"\\nTest prediction for input {test_input_raw[0]}: {prediction_original[0][0]:.2f}\")\n"
   ]
  },
  {
   "cell_type": "code",
   "execution_count": 49,
   "metadata": {},
   "outputs": [
    {
     "name": "stdout",
     "output_type": "stream",
     "text": [
      "\n",
      "Sample predictions vs actual values:\n",
      "Predicted: 24.87, Actual: 44.48\n",
      "Predicted: 11.22, Actual: 4.68\n",
      "Predicted: 5.25, Actual: -0.00\n",
      "Predicted: 9.84, Actual: 2.73\n",
      "Predicted: 10.07, Actual: 1.27\n"
     ]
    }
   ],
   "source": [
    "# Sample of actual vs  predicted values\n",
    "with torch.no_grad():\n",
    "    # Get predictions for first few samples\n",
    "    sample_X = X[:5]\n",
    "    sample_predictions_scaled = model(sample_X)\n",
    "    sample_predictions = scaler_y.inverse_transform(sample_predictions_scaled.numpy())\n",
    "    sample_actual = scaler_y.inverse_transform(y[:5].numpy())\n",
    "    \n",
    "    print(\"\\nSample predictions vs actual values:\")\n",
    "    for i in range(5):\n",
    "        print(f\"Predicted: {sample_predictions[i][0]:.2f}, Actual: {sample_actual[i][0]:.2f}\")"
   ]
  }
 ],
 "metadata": {
  "kernelspec": {
   "display_name": "tech-env",
   "language": "python",
   "name": "python3"
  },
  "language_info": {
   "codemirror_mode": {
    "name": "ipython",
    "version": 3
   },
   "file_extension": ".py",
   "mimetype": "text/x-python",
   "name": "python",
   "nbconvert_exporter": "python",
   "pygments_lexer": "ipython3",
   "version": "3.8.16"
  }
 },
 "nbformat": 4,
 "nbformat_minor": 2
}
